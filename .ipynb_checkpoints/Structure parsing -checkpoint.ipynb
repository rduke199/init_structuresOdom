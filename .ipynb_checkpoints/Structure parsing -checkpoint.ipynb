{
 "cells": [
  {
   "cell_type": "code",
   "execution_count": 1,
   "metadata": {},
   "outputs": [],
   "source": [
    "backbones = {'bp' : 'biphenyl', \n",
    "             'ta' : 'thianthenes',\n",
    "             'NN' : None\n",
    "            }\n",
    "sidechains = {'pa' : 'diphenylamine', \n",
    "              'ma' : 'dimethoxyphenylamine', \n",
    "              'cp' : 'dimethylamaine_cyclopropane',\n",
    "              'NN' : None\n",
    "             }\n",
    "size = {'whol' : 'whole',\n",
    "        'half' : 'half',\n",
    "       }\n",
    "\n",
    "back = list(backbones.keys())\n",
    "side = list(sidechains.keys())\n",
    "sz = list(size.keys())\n",
    "\n",
    "molecules = []\n",
    "for b in back: \n",
    "    for s in side: \n",
    "        if b == 'NN' and s == 'NN':\n",
    "            continue\n",
    "        if b == 'NN' or s == 'NN':\n",
    "            molecule_name = 'mol_{}_{}_frag'.format(b,s)\n",
    "#             print(molecule_name)\n",
    "            molecules.append(molecule_name)\n",
    "        else: \n",
    "            for z in sz: \n",
    "                molecule_name = 'mol_{}_{}_{}'.format(b,s,z)\n",
    "#                 print(molecule_name)\n",
    "                molecules.append(molecule_name)\n",
    "# print(molecules)            "
   ]
  },
  {
   "cell_type": "code",
   "execution_count": 34,
   "metadata": {},
   "outputs": [
    {
     "name": "stderr",
     "output_type": "stream",
     "text": [
      "C:\\Users\\Rebekah\\anaconda3\\envs\\scaffold\\lib\\site-packages\\ocelot-0.2-py3.7.egg\\ocelot\\routines\\conformerparser.py:106: UserWarning: AP parser cannot use radical scheme, trying to use charged frag\n",
      "  warnings.warn('AP parser cannot use radical scheme, trying to use charged frag')\n"
     ]
    },
    {
     "name": "stdout",
     "output_type": "stream",
     "text": [
      "[H]c1c([H])c([H])c(-c2c([H])c([H])c(-[c-]3c(=[N+](C([H])([H])[H])C([H])([H])[H])c3=[N+](C([H])([H])[H])C([H])([H])[H])c([H])c2[H])c([H])c1[H]\n",
      " \n",
      "[H]c1c([H])c(=c2c([H])c([H])c(=C3C(N(C([H])([H])[H])C([H])([H])[H])=C3N(C([H])([H])[H])C([H])([H])[H])c([H])c2[H])c([H])c([H])c1=C1C(N(C([H])([H])[H])C([H])([H])[H])=C1N(C([H])([H])[H])C([H])([H])[H]\n",
      " \n",
      "[H]Oc1c([H])c([H])c(N(c2c([H])c([H])c(-c3c([H])c([H])c([H])c([H])c3[H])c([H])c2[H])c2c([H])c([H])c([H])c(O[H])c2[H])c([H])c1[H]\n",
      " \n",
      "[H]Oc1c([H])c([H])c(N(c2c([H])c([H])c(O[H])c([H])c2[H])c2c([H])c([H])c(-c3c([H])c([H])c(N(c4c([H])c([H])c(O[H])c([H])c4[H])c4c([H])c([H])c(O[H])c([H])c4[H])c([H])c3[H])c([H])c2[H])c([H])c1[H]\n",
      " \n",
      "[H]c1c([H])c([H])c(-c2c([H])c([H])c([H])c([H])c2[H])c([H])c1[H]\n",
      " \n",
      "[H]c1c([H])c([H])c(-c2c([H])c([H])c(N(c3c([H])c([H])c([H])c([H])c3[H])c3c([H])c([H])c([H])c([H])c3[H])c([H])c2[H])c([H])c1[H]\n",
      " \n",
      "[H]c1c([H])c([H])c(N(c2c([H])c([H])c([H])c([H])c2[H])c2c([H])c([H])c(-c3c([H])c([H])c(N(c4c([H])c([H])c([H])c([H])c4[H])c4c([H])c([H])c([H])c([H])c4[H])c([H])c3[H])c([H])c2[H])c([H])c1[H]\n",
      " \n",
      "[H]C([H])([H])[N+](=C1C(=[N+](C([H])([H])[H])C([H])([H])[H])C1=[N+](C([H])([H])[H])C([H])([H])[H])C([H])([H])[H]\n",
      " \n",
      "[H]c1c([H])c(N(c2c([H])c([H])c(OC([H])([H])[H])c([H])c2[H])c2c([H])c([H])c(OC([H])([H])[H])c([H])c2[H])c([H])c([H])c1OC([H])([H])[H]\n",
      " \n",
      "[H]c1c([H])c([H])c(N(c2c([H])c([H])c([H])c([H])c2[H])c2c([H])c([H])c([H])c([H])c2[H])c([H])c1[H]\n",
      " \n",
      "[H]c1c([H])c([H])c2c(c1[H])=[S+2]([H])c1c([H])c(=C3C(=[N+](C([H])([H])[H])C([H])([H])[H])C3=[N+](C([H])([H])[H])C([H])([H])[H])c([H])c([H])c1=[S+3]=2[H]\n",
      " \n",
      "[H]c1c([H])c2c(c([H])c1=C1C(N(C([H])([H])[H])C([H])([H])[H])=C1N(C([H])([H])[H])C([H])([H])[H])[S]([H])=c1c([H])c([H])c(=C3C(N(C([H])([H])[H])C([H])([H])[H])=C3N(C([H])([H])[H])C([H])([H])[H])c([H])c1[S]=2[H]\n",
      " \n",
      "[H]Oc1c([H])c([H])c(N(c2c([H])c([H])c(O[H])c([H])c2[H])c2c([H])c([H])c3c(c2[H])[S]([H])=c2c([H])c([H])c([H])c([H])c2=[S]3[H])c([H])c1[H]\n",
      " \n",
      "[H]Oc1c([H])c([H])c(N(c2c([H])c([H])c(O[H])c([H])c2[H])c2c([H])c([H])c3c(c2[H])[S]([H])=c2c([H])c([H])c(N(c4c([H])c([H])c(O[H])c([H])c4[H])c4c([H])c([H])c(O[H])c([H])c4[H])c([H])c2=[S]3[H])c([H])c1[H]\n",
      " \n",
      "[H]c1c([H])c([H])c2c(c1[H])[S]([H])=c1c([H])c([H])c([H])c([H])c1=[S]2[H]\n",
      " \n",
      "[H]c1c([H])c([H])c(N(c2c([H])c([H])c([H])c([H])c2[H])c2c([H])c([H])c3c(c2[H])[S]([H])=c2c([H])c([H])c([H])c([H])c2=[S]3[H])c([H])c1[H]\n",
      " \n",
      "[H]c1c([H])c([H])c(N(c2c([H])c([H])c([H])c([H])c2[H])c2c([H])c([H])c3c(c2[H])[S]([H])=c2c([H])c([H])c(N(c4c([H])c([H])c([H])c([H])c4[H])c4c([H])c([H])c([H])c([H])c4[H])c([H])c2=[S]3[H])c([H])c1[H]\n",
      " \n"
     ]
    }
   ],
   "source": [
    "import os\n",
    "import ocelot\n",
    "from pymatgen import Molecule\n",
    "from rdkit import Chem\n",
    "from rdkit.Chem import AllChem, Draw, MolToSmiles, MolFromSmiles\n",
    "from ocelot.routines.conformerparser import pmgmol_to_rdmol\n",
    "\n",
    "def XYZtoGJF(fn):\n",
    "    \"\"\"\n",
    "    Convert an individually imputted xyz file to a gjf Gaussian input file\n",
    "    \"\"\"\n",
    "    mol = Molecule.from_file(fn)\n",
    "    gau = GaussianInput(mol=mol,charge=0,spin_multiplicity=1,functional='wB97XD',basis_set='cc-pVDZ',  route_parameters={\"opt\":\"\"}, link0_parameters={'%mem':'5GB','%chk':'{}.chk'.format(mol_name)})\n",
    "    gjf_file = gau.write_file('{}.gjf'.format(fn.split('.')[0]))\n",
    "    return gjf_file\n",
    "\n",
    "home = os.getcwd()\n",
    "xyz_path = os.path.join(home, 'xyz')\n",
    "gau_in_path = os.path.join(home, 'gau_input')\n",
    "for i in os.listdir(xyz_path):\n",
    "    ipath = os.path.join(xyz_path,i)\n",
    "    XYZtoGJF(ipath)"
   ]
  },
  {
   "cell_type": "code",
   "execution_count": null,
   "metadata": {},
   "outputs": [],
   "source": []
  },
  {
   "cell_type": "code",
   "execution_count": null,
   "metadata": {},
   "outputs": [],
   "source": []
  }
 ],
 "metadata": {
  "kernelspec": {
   "display_name": "Python 3",
   "language": "python",
   "name": "python3"
  },
  "language_info": {
   "codemirror_mode": {
    "name": "ipython",
    "version": 3
   },
   "file_extension": ".py",
   "mimetype": "text/x-python",
   "name": "python",
   "nbconvert_exporter": "python",
   "pygments_lexer": "ipython3",
   "version": "3.7.9"
  }
 },
 "nbformat": 4,
 "nbformat_minor": 4
}
